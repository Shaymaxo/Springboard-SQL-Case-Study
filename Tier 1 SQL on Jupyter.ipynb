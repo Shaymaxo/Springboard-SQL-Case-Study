{
 "cells": [
  {
   "cell_type": "markdown",
   "id": "7637dffe-b0d6-4265-afbc-839a2370e12c",
   "metadata": {},
   "source": [
    "***/* PART 2: SQLite\n",
    "/* We now want you to jump over to a local instance of the database on your machine. \n",
    "\n",
    "Copy and paste the LocalSQLConnection.py script into an empty Jupyter notebook, and run it. \n",
    "\n",
    "Make sure that the SQLFiles folder containing thes files is in your working directory, and\n",
    "that you haven't changed the name of the .db file from 'sqlite\\db\\pythonsqlite'.\n",
    "\n",
    "You should see the output from the initial query 'SELECT * FROM FACILITIES'.\n",
    "\n",
    "Complete the remaining tasks in the Jupyter interface. If you struggle, feel free to go back\n",
    "to the PHPMyAdmin interface as and when you need to. \n",
    "\n",
    "You'll need to paste your query into value of the 'query1' variable and run the code block again to get an output.\n",
    " \n",
    "QUESTIONS:\n",
    "/* Q10: Produce a list of facilities with a total revenue less than 1000.\n",
    "The output of facility name and total revenue, sorted by revenue. Remember\n",
    "that there's a different cost for guests and members! */\n",
    "\n",
    "/* Q11: Produce a report of members and who recommended them in alphabetic surname,firstname order */\n",
    "\n",
    "\n",
    "/* Q12: Find the facilities with their usage by member, but not guests */\n",
    "\n",
    "\n",
    "/* Q13: Find the facilities usage by month, but not guests */;***"
   ]
  },
  {
   "cell_type": "code",
   "execution_count": 187,
   "id": "8a097b46-94b0-49c9-b997-ce78584c5fca",
   "metadata": {
    "scrolled": true
   },
   "outputs": [
    {
     "name": "stdout",
     "output_type": "stream",
     "text": [
      "2.6.0\n",
      "2. Query all tasks\n",
      "(0, 'Tennis Court 1', 5, 25, 10000, 200)\n",
      "(1, 'Tennis Court 2', 5, 25, 8000, 200)\n",
      "(2, 'Badminton Court', 0, 15.5, 4000, 50)\n",
      "(3, 'Table Tennis', 0, 5, 320, 10)\n",
      "(4, 'Massage Room 1', 9.9, 80, 4000, 3000)\n",
      "(5, 'Massage Room 2', 9.9, 80, 4000, 3000)\n",
      "(6, 'Squash Court', 3.5, 17.5, 5000, 80)\n",
      "(7, 'Snooker Table', 0, 5, 450, 15)\n",
      "(8, 'Pool Table', 0, 5, 400, 15)\n"
     ]
    }
   ],
   "source": [
    "import sqlite3\n",
    "from sqlite3 import Error\n",
    "\n",
    " \n",
    "def create_connection(db_file):\n",
    "    \"\"\" create a database connection to the SQLite database\n",
    "        specified by the db_file\n",
    "    :param db_file: database file\n",
    "    :return: Connection object or None\n",
    "    \"\"\"\n",
    "    conn = None\n",
    "    try:\n",
    "        conn = sqlite3.connect(db_file)\n",
    "        print(sqlite3.version)\n",
    "    except Error as e:\n",
    "        print(e)\n",
    " \n",
    "    return conn\n",
    "\n",
    " \n",
    "def select_all_tasks(conn):\n",
    "    \"\"\"\n",
    "    Query all rows in the tasks table\n",
    "    :param conn: the Connection object\n",
    "    :return:\n",
    "    \"\"\"\n",
    "    cur = conn.cursor()\n",
    "    \n",
    "    query1 = \"\"\"\n",
    "        SELECT *\n",
    "        FROM FACILITIES\n",
    "        \"\"\"\n",
    "    cur.execute(query1)\n",
    " \n",
    "    rows = cur.fetchall()\n",
    " \n",
    "    for row in rows:\n",
    "        print(row)\n",
    "\n",
    "\n",
    "def main():\n",
    "    database = \"sqlite_db_pythonsqlite.db\"\n",
    " \n",
    "    # create a database connection\n",
    "    conn = create_connection(database)\n",
    "    with conn: \n",
    "        print(\"2. Query all tasks\")\n",
    "        select_all_tasks(conn)\n",
    " \n",
    " \n",
    "if __name__ == '__main__':\n",
    "    main()"
   ]
  },
  {
   "cell_type": "code",
   "execution_count": 189,
   "id": "2987c689-93df-4643-8298-4119845592fc",
   "metadata": {},
   "outputs": [],
   "source": [
    "import sqlite3\n",
    "import pandas as pd"
   ]
  },
  {
   "cell_type": "code",
   "execution_count": 191,
   "id": "ac83c161-dba1-47a4-9aee-adfc30e3fb41",
   "metadata": {},
   "outputs": [],
   "source": [
    "database = database = '/Users/shaymaremy/Library/CloudStorage/OneDrive-Personal/Desktop/Springboard 2024 Data Science/unit 19-SQL & databases/SQL case study/SQLFiles Tier 1/sqlite_db_pythonsqlite.db'"
   ]
  },
  {
   "cell_type": "code",
   "execution_count": 193,
   "id": "e1261acf-db76-4c56-ba54-52c059a45019",
   "metadata": {},
   "outputs": [],
   "source": [
    "con = sqlite3.connect(database)"
   ]
  },
  {
   "cell_type": "code",
   "execution_count": 195,
   "id": "4754665c-819d-45a5-b39a-78d63487868f",
   "metadata": {},
   "outputs": [],
   "source": [
    "query = \"SELECT * FROM Facilities;\""
   ]
  },
  {
   "cell_type": "code",
   "execution_count": 197,
   "id": "20429dc2-44b7-4c29-a2cb-215f670e9ba7",
   "metadata": {},
   "outputs": [],
   "source": [
    "df = pd.read_sql_query(query, con)"
   ]
  },
  {
   "cell_type": "code",
   "execution_count": 199,
   "id": "abee228d-3835-4610-b086-d21feeabfb37",
   "metadata": {},
   "outputs": [
    {
     "name": "stdout",
     "output_type": "stream",
     "text": [
      "   facid             name  membercost  guestcost  initialoutlay  \\\n",
      "0      0   Tennis Court 1         5.0       25.0          10000   \n",
      "1      1   Tennis Court 2         5.0       25.0           8000   \n",
      "2      2  Badminton Court         0.0       15.5           4000   \n",
      "3      3     Table Tennis         0.0        5.0            320   \n",
      "4      4   Massage Room 1         9.9       80.0           4000   \n",
      "5      5   Massage Room 2         9.9       80.0           4000   \n",
      "6      6     Squash Court         3.5       17.5           5000   \n",
      "7      7    Snooker Table         0.0        5.0            450   \n",
      "8      8       Pool Table         0.0        5.0            400   \n",
      "\n",
      "   monthlymaintenance  \n",
      "0                 200  \n",
      "1                 200  \n",
      "2                  50  \n",
      "3                  10  \n",
      "4                3000  \n",
      "5                3000  \n",
      "6                  80  \n",
      "7                  15  \n",
      "8                  15  \n"
     ]
    }
   ],
   "source": [
    "print(df)"
   ]
  },
  {
   "cell_type": "code",
   "execution_count": null,
   "id": "30f94026-f514-454b-abe7-3f362444b9bb",
   "metadata": {},
   "outputs": [],
   "source": []
  },
  {
   "cell_type": "code",
   "execution_count": 202,
   "id": "15c7dbc9-d862-41ef-ab7a-928b3bfdfbfa",
   "metadata": {},
   "outputs": [],
   "source": [
    "#/* Q10: Produce a list of facilities with a total revenue less than 1000.\n",
    "#The output of facility name and total revenue, sorted by revenue. Remember\n",
    "#that there's a different cost for guests and members! */\n",
    "query_q10 = '''\n",
    "SELECT f.name AS facility_name, \n",
    "       SUM(CASE WHEN b.memid = 0 THEN f.guestcost * b.slots ELSE f.membercost * b.slots END) AS total_revenue\n",
    "FROM Facilities f\n",
    "JOIN Bookings b ON f.facid = b.facid\n",
    "GROUP BY f.name\n",
    "HAVING total_revenue < 1000\n",
    "ORDER BY total_revenue;\n",
    "'''"
   ]
  },
  {
   "cell_type": "code",
   "execution_count": 204,
   "id": "82745250-ced4-4a15-bc45-3ed19bc47ba7",
   "metadata": {},
   "outputs": [
    {
     "name": "stdout",
     "output_type": "stream",
     "text": [
      "Facilities with total revenue less than 1000:\n",
      "   facility_name  total_revenue\n",
      "0   Table Tennis            180\n",
      "1  Snooker Table            240\n",
      "2     Pool Table            270\n"
     ]
    }
   ],
   "source": [
    "df_q10 = pd.read_sql_query(query_q10, con)\n",
    "print(\"Facilities with total revenue less than 1000:\")\n",
    "print(df_q10)"
   ]
  },
  {
   "cell_type": "code",
   "execution_count": 206,
   "id": "3086b41f-e998-4af8-b0d4-1a78ca5e907e",
   "metadata": {},
   "outputs": [],
   "source": [
    "#/* Q11: Produce a report of members and who recommended them in alphabetic surname,firstname order */\n",
    "query_q11 = '''\n",
    "SELECT m.firstname, m.surname, m.recommendedby\n",
    "FROM Members m\n",
    "ORDER BY m.surname, m.firstname;\n",
    "'''"
   ]
  },
  {
   "cell_type": "code",
   "execution_count": 208,
   "id": "8178a60b-410e-4a1c-b24c-584b51de2965",
   "metadata": {},
   "outputs": [
    {
     "name": "stdout",
     "output_type": "stream",
     "text": [
      "\n",
      "Members and who recommended them:\n",
      "    firstname            surname recommendedby\n",
      "0    Florence              Bader             9\n",
      "1        Anne              Baker             9\n",
      "2     Timothy              Baker            13\n",
      "3         Tim             Boothe             3\n",
      "4      Gerald            Butters             1\n",
      "5        Joan             Coplin            16\n",
      "6       Erica            Crumpet             2\n",
      "7       Nancy               Dare             4\n",
      "8       David            Farrell              \n",
      "9      Jemima            Farrell              \n",
      "10      GUEST              GUEST              \n",
      "11    Matthew            Genting             5\n",
      "12       John               Hunt            30\n",
      "13      David              Jones             4\n",
      "14    Douglas              Jones            11\n",
      "15     Janice           Joplette             1\n",
      "16       Anna          Mackenzie             1\n",
      "17    Charles               Owen             1\n",
      "18      David             Pinker            13\n",
      "19  Millicent            Purview             2\n",
      "20        Tim             Rownam              \n",
      "21  Henrietta             Rumney            20\n",
      "22  Ramnaresh             Sarwin            15\n",
      "23     Darren              Smith              \n",
      "24     Darren              Smith              \n",
      "25       Jack              Smith             1\n",
      "26      Tracy              Smith              \n",
      "27     Ponder           Stibbons             6\n",
      "28     Burton              Tracy              \n",
      "29   Hyacinth         Tupperware              \n",
      "30      Henry  Worthington-Smyth             2\n"
     ]
    }
   ],
   "source": [
    "df_q11 = pd.read_sql_query(query_q11, con)\n",
    "print(\"\\nMembers and who recommended them:\")\n",
    "print(df_q11)"
   ]
  },
  {
   "cell_type": "code",
   "execution_count": 210,
   "id": "deb81843-50b7-48ab-afc7-a9a1528dd7f6",
   "metadata": {},
   "outputs": [],
   "source": [
    "#/* Q12: Find the facilities with their usage by member, but not guests */\n",
    "query_q12 = '''\n",
    "SELECT f.name AS facility_name,\n",
    "        COUNT(b.memid) AS usage_count\n",
    "FROM Facilities f\n",
    "JOIN Bookings b ON f.facid = b.facid\n",
    "WHERE b.memid != 0 -- Exclude guests\n",
    "GROUP BY f.name;\n",
    "'''"
   ]
  },
  {
   "cell_type": "code",
   "execution_count": 212,
   "id": "a3f8333c-4f0e-4727-90a5-4d1df73b58f6",
   "metadata": {},
   "outputs": [
    {
     "name": "stdout",
     "output_type": "stream",
     "text": [
      "\n",
      "Facilities usage by member:\n",
      "     facility_name  usage_count\n",
      "0  Badminton Court          344\n",
      "1   Massage Room 1          421\n",
      "2   Massage Room 2           27\n",
      "3       Pool Table          783\n",
      "4    Snooker Table          421\n",
      "5     Squash Court          195\n",
      "6     Table Tennis          385\n",
      "7   Tennis Court 1          308\n",
      "8   Tennis Court 2          276\n"
     ]
    }
   ],
   "source": [
    "df_q12 = pd.read_sql_query(query_q12, con)\n",
    "print(\"\\nFacilities usage by member:\")\n",
    "print(df_q12)"
   ]
  },
  {
   "cell_type": "code",
   "execution_count": 214,
   "id": "a0abb8c2-39f7-406b-b27d-61cab4c34758",
   "metadata": {},
   "outputs": [],
   "source": [
    "#/* Q13: Find the facilities usage by month, but not guests */;\n",
    "\n",
    "query_q13 = '''\n",
    "SELECT f.name AS facility_name, \n",
    "       strftime('%Y-%m', b.starttime) AS month, \n",
    "       COUNT(b.memid) AS usage_count\n",
    "FROM Facilities f\n",
    "JOIN Bookings b ON f.facid = b.facid\n",
    "WHERE b.memid != 0  -- Exclude guests\n",
    "GROUP BY f.name, month\n",
    "ORDER BY month;\n",
    "'''"
   ]
  },
  {
   "cell_type": "code",
   "execution_count": 216,
   "id": "9ddfc19b-c639-4b45-abde-b499936bd242",
   "metadata": {},
   "outputs": [
    {
     "name": "stdout",
     "output_type": "stream",
     "text": [
      "\n",
      "Facilities usage by month:\n",
      "      facility_name    month  usage_count\n",
      "0   Badminton Court  2012-07           51\n",
      "1    Massage Room 1  2012-07           77\n",
      "2    Massage Room 2  2012-07            4\n",
      "3        Pool Table  2012-07          103\n",
      "4     Snooker Table  2012-07           68\n",
      "5      Squash Court  2012-07           23\n",
      "6      Table Tennis  2012-07           48\n",
      "7    Tennis Court 1  2012-07           65\n",
      "8    Tennis Court 2  2012-07           41\n",
      "9   Badminton Court  2012-08          132\n",
      "10   Massage Room 1  2012-08          153\n",
      "11   Massage Room 2  2012-08            9\n",
      "12       Pool Table  2012-08          272\n",
      "13    Snooker Table  2012-08          154\n",
      "14     Squash Court  2012-08           85\n",
      "15     Table Tennis  2012-08          143\n",
      "16   Tennis Court 1  2012-08          111\n",
      "17   Tennis Court 2  2012-08          109\n",
      "18  Badminton Court  2012-09          161\n",
      "19   Massage Room 1  2012-09          191\n",
      "20   Massage Room 2  2012-09           14\n",
      "21       Pool Table  2012-09          408\n",
      "22    Snooker Table  2012-09          199\n",
      "23     Squash Court  2012-09           87\n",
      "24     Table Tennis  2012-09          194\n",
      "25   Tennis Court 1  2012-09          132\n",
      "26   Tennis Court 2  2012-09          126\n"
     ]
    }
   ],
   "source": [
    "df_q13 = pd.read_sql_query(query_q13, con)\n",
    "print(\"\\nFacilities usage by month:\")\n",
    "print(df_q13)"
   ]
  },
  {
   "cell_type": "code",
   "execution_count": null,
   "id": "a0b01e16-8ece-4624-937c-1b4f92219432",
   "metadata": {},
   "outputs": [],
   "source": []
  }
 ],
 "metadata": {
  "kernelspec": {
   "display_name": "Python [conda env:base] *",
   "language": "python",
   "name": "conda-base-py"
  },
  "language_info": {
   "codemirror_mode": {
    "name": "ipython",
    "version": 3
   },
   "file_extension": ".py",
   "mimetype": "text/x-python",
   "name": "python",
   "nbconvert_exporter": "python",
   "pygments_lexer": "ipython3",
   "version": "3.12.7"
  }
 },
 "nbformat": 4,
 "nbformat_minor": 5
}
